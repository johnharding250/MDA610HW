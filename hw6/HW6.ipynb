{
 "cells": [
  {
   "cell_type": "code",
   "execution_count": 1,
   "metadata": {},
   "outputs": [
    {
     "data": {
      "text/plain": [
       "\"Frequency of Characters:{'m': 1}\""
      ]
     },
     "execution_count": 1,
     "metadata": {},
     "output_type": "execute_result"
    }
   ],
   "source": [
    "count ={}\n",
    "def freq(word):\n",
    "    for i in word:\n",
    "        if i in count:\n",
    "            count[i] +=1\n",
    "        else:\n",
    "            count[i] = 1\n",
    "        return (\"Frequency of Characters:\" + str(count))\n",
    "\n",
    "freq(\"masters\")    "
   ]
  },
  {
   "cell_type": "code",
   "execution_count": 3,
   "metadata": {},
   "outputs": [
    {
     "name": "stdout",
     "output_type": "stream",
     "text": [
      "Max: 67 Min: 1\n",
      "Max: tom Min: flocco\n"
     ]
    }
   ],
   "source": [
    "def min_and_max(list):\n",
    "    a=max(list)\n",
    "    b=min(list)\n",
    "    print(\"Max:\", a, \"Min:\", b)\n",
    "\n",
    "thing=[1,2,3,4,5,66,7,8,67]\n",
    "min_and_max(thing)\n",
    "\n",
    "stuff=[\"john\", \"tom\", \"monte\", \"flocco\"]\n",
    "min_and_max(stuff)"
   ]
  },
  {
   "cell_type": "code",
   "execution_count": 4,
   "metadata": {},
   "outputs": [
    {
     "name": "stdout",
     "output_type": "stream",
     "text": [
      "[1, 6, 8, 14]\n"
     ]
    }
   ],
   "source": [
    "def cum_sum(numb):\n",
    "    result = []\n",
    "    s=0\n",
    "    for n in numb:\n",
    "        s += n\n",
    "        result.append(s)\n",
    "    print(result)\n",
    "    \n",
    "lisa=[1,5,2,6]\n",
    "cum_sum(lisa)"
   ]
  },
  {
   "cell_type": "code",
   "execution_count": 6,
   "metadata": {},
   "outputs": [
    {
     "data": {
      "text/plain": [
       "22"
      ]
     },
     "execution_count": 6,
     "metadata": {},
     "output_type": "execute_result"
    }
   ],
   "source": [
    "one=[1,5,2,6]\n",
    "two=[0,2,3,1]\n",
    "\n",
    "def dot(y, x):\n",
    "    z=sum([y[i]*x[i] for i in range(len(y))])\n",
    "    return(z)\n",
    "\n",
    "dot(one, two)"
   ]
  }
 ],
 "metadata": {
  "kernelspec": {
   "display_name": "Python 3",
   "language": "python",
   "name": "python3"
  },
  "language_info": {
   "codemirror_mode": {
    "name": "ipython",
    "version": 3
   },
   "file_extension": ".py",
   "mimetype": "text/x-python",
   "name": "python",
   "nbconvert_exporter": "python",
   "pygments_lexer": "ipython3",
   "version": "3.7.3"
  }
 },
 "nbformat": 4,
 "nbformat_minor": 2
}
