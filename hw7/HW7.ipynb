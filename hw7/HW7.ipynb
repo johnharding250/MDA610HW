{
 "cells": [
  {
   "cell_type": "code",
   "execution_count": 1,
   "metadata": {},
   "outputs": [
    {
     "data": {
      "text/plain": [
       "{'Mean': 59.0, 'Standard Deviation': 9.073751122468383e-07, 'Variance': 1049.8}"
      ]
     },
     "execution_count": 1,
     "metadata": {},
     "output_type": "execute_result"
    }
   ],
   "source": [
    "Stats= {}\n",
    "def comp(nums):\n",
    "    count=len(nums)\n",
    "    mean=sum(nums)/count\n",
    "    Stats['Mean']=mean\n",
    "    squared= []\n",
    "    for i in nums:\n",
    "        t=(i-mean)**2\n",
    "        squared.append(t)\n",
    "    Stats['Standard Deviation']=((sum(squared))/len(nums))**-2\n",
    "    Stats['Variance']=(sum(squared))/len(nums)\n",
    "    return(Stats)\n",
    "\n",
    "raw=[77,45,88,2,36,45,20,78,99,100]\n",
    "\n",
    "comp(raw)"
   ]
  },
  {
   "cell_type": "code",
   "execution_count": 2,
   "metadata": {},
   "outputs": [
    {
     "data": {
      "text/plain": [
       "59.0"
      ]
     },
     "execution_count": 2,
     "metadata": {},
     "output_type": "execute_result"
    }
   ],
   "source": [
    "Stats['Mean']"
   ]
  },
  {
   "cell_type": "code",
   "execution_count": 4,
   "metadata": {},
   "outputs": [
    {
     "name": "stdout",
     "output_type": "stream",
     "text": [
      "Enter a series of numbers. When the series is done type stop:1,2,3,4,5,6,7,8,stop\n"
     ]
    },
    {
     "data": {
      "text/plain": [
       "1.0"
      ]
     },
     "execution_count": 4,
     "metadata": {},
     "output_type": "execute_result"
    }
   ],
   "source": [
    "def mean():\n",
    "    x=input(\"Enter a series of numbers. When the series is done type stop:\")\n",
    "    huh=x.split(\",\",)\n",
    "    \n",
    "    new=[]\n",
    "    \n",
    "    for i in huh:\n",
    "        if i =='stop':\n",
    "            break\n",
    "        else:\n",
    "            new.append(int(i))\n",
    "        avg=sum(new)/len(new)\n",
    "        return(avg)\n",
    "    \n",
    "mean()    "
   ]
  }
 ],
 "metadata": {
  "kernelspec": {
   "display_name": "Python 3",
   "language": "python",
   "name": "python3"
  },
  "language_info": {
   "codemirror_mode": {
    "name": "ipython",
    "version": 3
   },
   "file_extension": ".py",
   "mimetype": "text/x-python",
   "name": "python",
   "nbconvert_exporter": "python",
   "pygments_lexer": "ipython3",
   "version": "3.7.3"
  }
 },
 "nbformat": 4,
 "nbformat_minor": 2
}
