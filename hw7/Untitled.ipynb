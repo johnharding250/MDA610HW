{
 "cells": [
  {
   "cell_type": "code",
   "execution_count": 1,
   "metadata": {},
   "outputs": [
    {
     "data": {
      "text/plain": [
       "{'Mean': 59.0, 'Standard Deviation': 9.073751122468383e-07, 'Variance': 1049.8}"
      ]
     },
     "execution_count": 1,
     "metadata": {},
     "output_type": "execute_result"
    }
   ],
   "source": [
    "Stats= {}\n",
    "def comp(nums):\n",
    "    count=len(nums)\n",
    "    mean=sum(nums)/count\n",
    "    Stats['Mean']=mean\n",
    "    squared= []\n",
    "    for i in nums:\n",
    "        t=(i-mean)**2\n",
    "        squared.append(t)\n",
    "    Stats['Standard Deviation']=((sum(squared))/len(nums))**-2\n",
    "    Stats['Variance']=(sum(squared))/len(nums)\n",
    "    return(Stats)\n",
    "\n",
    "raw=[77,45,88,2,36,45,20,78,99,100]\n",
    "\n",
    "comp(raw)"
   ]
  },
  {
   "cell_type": "code",
   "execution_count": 2,
   "metadata": {},
   "outputs": [
    {
     "data": {
      "text/plain": [
       "59.0"
      ]
     },
     "execution_count": 2,
     "metadata": {},
     "output_type": "execute_result"
    }
   ],
   "source": [
    "Stats['Mean']"
   ]
  },
  {
   "cell_type": "code",
   "execution_count": 3,
   "metadata": {},
   "outputs": [
    {
     "ename": "SyntaxError",
     "evalue": "invalid syntax (<ipython-input-3-5b73f61b9591>, line 5)",
     "output_type": "error",
     "traceback": [
      "\u001b[1;36m  File \u001b[1;32m\"<ipython-input-3-5b73f61b9591>\"\u001b[1;36m, line \u001b[1;32m5\u001b[0m\n\u001b[1;33m    new[]\u001b[0m\n\u001b[1;37m        ^\u001b[0m\n\u001b[1;31mSyntaxError\u001b[0m\u001b[1;31m:\u001b[0m invalid syntax\n"
     ]
    }
   ],
   "source": [
    "def mean():\n",
    "    x=input(\"Enter a series of numbers. When the series is done type stop:\")\n",
    "    huh=x.split(\",\",)\n",
    "    \n",
    "    new+[]\n",
    "    \n",
    "    for i in huh:\n",
    "        if i =='stop':\n",
    "            break\n",
    "        else:\n",
    "            new.append(int(i))\n",
    "        avg=sum(new)/len(new)\n",
    "        return(avg)\n",
    "    \n",
    "mean()    "
   ]
  }
 ],
 "metadata": {
  "kernelspec": {
   "display_name": "Python 3",
   "language": "python",
   "name": "python3"
  },
  "language_info": {
   "codemirror_mode": {
    "name": "ipython",
    "version": 3
   },
   "file_extension": ".py",
   "mimetype": "text/x-python",
   "name": "python",
   "nbconvert_exporter": "python",
   "pygments_lexer": "ipython3",
   "version": "3.7.3"
  }
 },
 "nbformat": 4,
 "nbformat_minor": 2
}
