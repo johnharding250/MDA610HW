{
 "cells": [
  {
   "cell_type": "code",
   "execution_count": 1,
   "metadata": {},
   "outputs": [
    {
     "name": "stdout",
     "output_type": "stream",
     "text": [
      "Choose number grade:89\n",
      "B\n"
     ]
    }
   ],
   "source": [
    "#A: 90-100\n",
    "#B: 80-89\n",
    "#C: 70-79\n",
    "#D: 60-69\n",
    "#F: <60\n",
    "\n",
    "score = int(input(\"Choose number grade:\"))\n",
    "if score >= 90:\n",
    "    print(\"A\")\n",
    "elif 80 <=score <=89:\n",
    "    print(\"B\")\n",
    "elif 70 <=score <=79:\n",
    "    print(\"C\")\n",
    "elif 60 <=(\"D\") <=69:\n",
    "    print(\"D\")\n",
    "else:\n",
    "    print(\"F\")\n"
   ]
  },
  {
   "cell_type": "code",
   "execution_count": 2,
   "metadata": {},
   "outputs": [
    {
     "name": "stdout",
     "output_type": "stream",
     "text": [
      "{3, 4, 5}\n"
     ]
    }
   ],
   "source": [
    "a=[1,2,3,4,5]\n",
    "b=[3,4,5,6,7]\n",
    "\n",
    "print(set(a).intersection(set(b)))"
   ]
  },
  {
   "cell_type": "code",
   "execution_count": 3,
   "metadata": {},
   "outputs": [
    {
     "name": "stdout",
     "output_type": "stream",
     "text": [
      "1 2 3 4 5\n",
      "2 4 6 8 10\n",
      "3 6 9 12 15\n",
      "4 8 12 16 20\n"
     ]
    }
   ],
   "source": [
    "list = range(1,5)\n",
    "for i in list:\n",
    "    print(i, i*2, i*3, i*4, i*5)"
   ]
  },
  {
   "cell_type": "code",
   "execution_count": 5,
   "metadata": {},
   "outputs": [
    {
     "name": "stdout",
     "output_type": "stream",
     "text": [
      "200,202,204,206,208,220,222,224,226,228,240,242,244,246,248,260,262,264,266,268,280,282,284,286,288,400\n"
     ]
    }
   ],
   "source": [
    "items =[]\n",
    "for i in range(100,401):\n",
    "    s = str(i)\n",
    "    if(int(s[0])%2==0) and (int(s[1])%2==0) and (int(s[2])%2==0):\n",
    "        items.append(s)\n",
    "print(\",\".join(items))        "
   ]
  },
  {
   "cell_type": "code",
   "execution_count": 6,
   "metadata": {},
   "outputs": [
    {
     "name": "stdout",
     "output_type": "stream",
     "text": [
      "Counter({'c': 400, 'b': 320, 'a': 250, 'e': 60, 'd': 10})\n"
     ]
    }
   ],
   "source": [
    "from collections import Counter\n",
    "adict= Counter({'a': 200, 'b': 300, 'c': 400})\n",
    "bdict= Counter ({'a': 50, 'b': 20, 'd': 10, 'e': 60})\n",
    "print(adict+bdict)"
   ]
  }
 ],
 "metadata": {
  "kernelspec": {
   "display_name": "Python 3",
   "language": "python",
   "name": "python3"
  },
  "language_info": {
   "codemirror_mode": {
    "name": "ipython",
    "version": 3
   },
   "file_extension": ".py",
   "mimetype": "text/x-python",
   "name": "python",
   "nbconvert_exporter": "python",
   "pygments_lexer": "ipython3",
   "version": "3.7.3"
  }
 },
 "nbformat": 4,
 "nbformat_minor": 2
}
